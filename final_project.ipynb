{
 "cells": [
  {
   "cell_type": "code",
   "execution_count": 338,
   "metadata": {},
   "outputs": [
    {
     "data": {
      "text/plain": [
       "'The project should have at least the following components:\\n\\n1. An open source license.\\n2. A class that you have defined and an derived class that inherits from this parent class. The classes can be simple, but you should have at least a useful ``__str__`` method.\\n3. Data permanence using a database (e.g. SQLite, MySQL, or MongoDB) or some form of data serialization (e.g. JSON).\\n4. A user interface. This could be a web application (such as Flask or Django); an application built with pyQT4 or wxWindows; an Jupyter notebook with widgets; or a command line interface.\\n5. Some sort of visualization. This can be a static matplotlib-generated figure or an interactive plot with Bokeh or mpld3.\\n6. A detailed README.md that describes the problem your project is addressing including any domain knowledge that will help someone (me) outside of your expertise appreciate the intent of the project, provides a description of the dependencies (any install instructions), instructions on how to use the project with example use cases.\\n7. The project should be well written Python program that follows Google’s Python style guide.\\n8. Create a separate git (e.g. Bitbucket or GitHub) repository for the project.'"
      ]
     },
     "execution_count": 338,
     "metadata": {},
     "output_type": "execute_result"
    }
   ],
   "source": [
    "\"\"\"The project should have at least the following components:\n",
    "\n",
    "1. An open source license.\n",
    "2. A class that you have defined and an derived class that inherits from this parent class. The classes can be simple, but you should have at least a useful ``__str__`` method.\n",
    "3. Data permanence using a database (e.g. SQLite, MySQL, or MongoDB) or some form of data serialization (e.g. JSON).\n",
    "4. A user interface. This could be a web application (such as Flask or Django); an application built with pyQT4 or wxWindows; an Jupyter notebook with widgets; or a command line interface.\n",
    "5. Some sort of visualization. This can be a static matplotlib-generated figure or an interactive plot with Bokeh or mpld3.\n",
    "6. A detailed README.md that describes the problem your project is addressing including any domain knowledge that will help someone (me) outside of your expertise appreciate the intent of the project, provides a description of the dependencies (any install instructions), instructions on how to use the project with example use cases.\n",
    "7. The project should be well written Python program that follows Google’s Python style guide.\n",
    "8. Create a separate git (e.g. Bitbucket or GitHub) repository for the project.\"\"\""
   ]
  },
  {
   "cell_type": "code",
   "execution_count": 52,
   "metadata": {},
   "outputs": [],
   "source": [
    "import pandas as pd\n",
    "from pandas import Series, DataFrame, Panel\n",
    "import dateutil\n",
    "from dateutil.parser import*\n",
    "import datetime\n",
    "from datetime import timedelta\n",
    "from dateutil.relativedelta import *\n",
    "import math\n",
    "import random\n",
    "import ipywidgets as widgets\n",
    "from ipywidgets import Button, Layout, interact\n",
    "from IPython.display import Javascript, display\n",
    "import numbers\n",
    "import gspread\n",
    "from oauth2client.service_account import ServiceAccountCredentials\n",
    "import gspread\n",
    "import matplotlib.pyplot as plt"
   ]
  },
  {
   "cell_type": "code",
   "execution_count": 53,
   "metadata": {},
   "outputs": [],
   "source": [
    "class malady(object): \n",
    "    \"\"\"\n",
    "    malady class. \n",
    "    \"\"\"\n",
    "    def __init__(self, name = \"Headache\",\n",
    "                 onset = \"DEC 25, 2016\",\n",
    "                 severity = 'a lot'):\n",
    "        \n",
    "        self.name = name\n",
    "        self.onset = onset\n",
    "        self.severity = severity\n",
    "    \n",
    "class headache(malady):\n",
    "    \"\"\"\n",
    "    Headache class.\n",
    "    \"\"\"\n",
    "    def __init__(self, onset, severity, end, **kwargs):\n",
    "        super().__init__(\"Headache\", onset, severity)\n",
    "\n",
    "        self.end = end\n",
    "        self.health_data = kwargs\n",
    "        \n",
    "    def __str__(self):\n",
    "        return self.name + \" started \" + str(self.onset) + \" it was \" + str(self.severity) + \" painful. It ended at \" + str(self.end)\n",
    "     "
   ]
  },
  {
   "cell_type": "code",
   "execution_count": 54,
   "metadata": {},
   "outputs": [],
   "source": [
    "    #initiate the management of the csv file\n",
    "    x = 0\n",
    "    #define indexes and values for my widgets\n",
    "    months = {'Jan':1, 'Feb':2, 'Mar':3, 'Apr':4, 'May':5, 'Jun':6, 'Jul':7, 'Aug':8, 'Sep':9,'Oct':10, 'Nov':11, 'Dec':12}\n",
    "    days = list(range(1,32))\n",
    "    year = list(range(2017, 2027))\n",
    "    hour = {'12:00 am':24, '1:00 am':1, '2:00 am':2, '3:00 am':3, '4:00 am':4, '5:00 am':5, \n",
    "                            '6:00 am':6, '7:00 am':7, \"8:00 am\":8, '9:00 am':9, '10:00 am':10, \n",
    "                             '11:00 am':11, '12:00 pm':12, '1:00 pm':13, '2:00 pm':14, '3:00 pm':15,\n",
    "                             '4:00 pm':16, '5:00 pm':17, '6:00 pm':18, '7:00 pm':19, '8:00 pm':20, \n",
    "                             '9:00 pm':21, '10:00 pm':22, '11:00 pm':23}    \n",
    "    total_hours = list(range(0, 12))  \n",
    "    today_date = datetime.date.today()\n",
    "    today_date = today_date.strftime(\"%A %B %d, %Y\")\n"
   ]
  },
  {
   "cell_type": "code",
   "execution_count": 55,
   "metadata": {},
   "outputs": [
    {
     "data": {
      "application/javascript": [
       "IPython.notebook.execute_cell_range(IPython.notebook.get_selected_index()+1, IPython.notebook.ncells())"
      ],
      "text/plain": [
       "<IPython.core.display.Javascript object>"
      ]
     },
     "metadata": {},
     "output_type": "display_data"
    },
    {
     "data": {
      "text/plain": [
       "\"Autumn's Headache Tracker\""
      ]
     },
     "metadata": {},
     "output_type": "display_data"
    },
    {
     "data": {
      "text/plain": [
       "'Thursday December 21, 2017'"
      ]
     },
     "metadata": {},
     "output_type": "display_data"
    },
    {
     "data": {
      "application/vnd.jupyter.widget-view+json": {
       "model_id": "dd26afead7474e839b23d50338bf157e",
       "version_major": 2,
       "version_minor": 0
      },
      "text/plain": [
       "A Jupyter Widget"
      ]
     },
     "metadata": {},
     "output_type": "display_data"
    },
    {
     "data": {
      "application/vnd.jupyter.widget-view+json": {
       "model_id": "2d226a722cdb4c64bc033c16c96deb8c",
       "version_major": 2,
       "version_minor": 0
      },
      "text/plain": [
       "A Jupyter Widget"
      ]
     },
     "metadata": {},
     "output_type": "display_data"
    },
    {
     "data": {
      "application/vnd.jupyter.widget-view+json": {
       "model_id": "edecebbf5d684a28944cc9720f9700f9",
       "version_major": 2,
       "version_minor": 0
      },
      "text/plain": [
       "A Jupyter Widget"
      ]
     },
     "metadata": {},
     "output_type": "display_data"
    },
    {
     "data": {
      "application/vnd.jupyter.widget-view+json": {
       "model_id": "51882682a80e476990eeff28ce567dc6",
       "version_major": 2,
       "version_minor": 0
      },
      "text/plain": [
       "A Jupyter Widget"
      ]
     },
     "metadata": {},
     "output_type": "display_data"
    },
    {
     "data": {
      "application/vnd.jupyter.widget-view+json": {
       "model_id": "9b500843a7fb475084b11593bb899d62",
       "version_major": 2,
       "version_minor": 0
      },
      "text/plain": [
       "A Jupyter Widget"
      ]
     },
     "metadata": {},
     "output_type": "display_data"
    },
    {
     "data": {
      "application/vnd.jupyter.widget-view+json": {
       "model_id": "792b97a68fe043c2895b24c123a8cdfe",
       "version_major": 2,
       "version_minor": 0
      },
      "text/plain": [
       "A Jupyter Widget"
      ]
     },
     "metadata": {},
     "output_type": "display_data"
    },
    {
     "data": {
      "application/vnd.jupyter.widget-view+json": {
       "model_id": "bf754da46ee44dcfbcd47401566c2755",
       "version_major": 2,
       "version_minor": 0
      },
      "text/plain": [
       "A Jupyter Widget"
      ]
     },
     "metadata": {},
     "output_type": "display_data"
    },
    {
     "data": {
      "application/vnd.jupyter.widget-view+json": {
       "model_id": "f1d91c57773c4b99bd7816c0ad0c5f0a",
       "version_major": 2,
       "version_minor": 0
      },
      "text/plain": [
       "A Jupyter Widget"
      ]
     },
     "metadata": {},
     "output_type": "display_data"
    },
    {
     "data": {
      "application/vnd.jupyter.widget-view+json": {
       "model_id": "b6197f5ac21d4102a5acab3a489f0e54",
       "version_major": 2,
       "version_minor": 0
      },
      "text/plain": [
       "A Jupyter Widget"
      ]
     },
     "metadata": {},
     "output_type": "display_data"
    },
    {
     "data": {
      "application/vnd.jupyter.widget-view+json": {
       "model_id": "808d655e96124627b1eabe07b3746995",
       "version_major": 2,
       "version_minor": 0
      },
      "text/plain": [
       "A Jupyter Widget"
      ]
     },
     "metadata": {},
     "output_type": "display_data"
    },
    {
     "data": {
      "application/vnd.jupyter.widget-view+json": {
       "model_id": "d55869889ddf40b6a9aca3bfa38b1f14",
       "version_major": 2,
       "version_minor": 0
      },
      "text/plain": [
       "A Jupyter Widget"
      ]
     },
     "metadata": {},
     "output_type": "display_data"
    }
   ],
   "source": [
    "    #widgets\n",
    "    pain = widgets.SelectionSlider(\n",
    "        options=['none', 'a little', 'medium', 'a lot'],\n",
    "        value='none',\n",
    "        description='Pain level',\n",
    "        disabled=False,\n",
    "        continuous_update=False,\n",
    "        orientation='horizontal',    \n",
    "        readout=True\n",
    "    )\n",
    "\n",
    "\n",
    "    get_key_month =sorted(months, key=months.__getitem__)\n",
    "    mn = widgets.Dropdown(\n",
    "        options = get_key_month,\n",
    "        value= 'Jan',\n",
    "        description='Month:',\n",
    "    )\n",
    "\n",
    "\n",
    "    dy = widgets.Dropdown(\n",
    "        options = days,\n",
    "        value= 1,\n",
    "        description='Day:',\n",
    "    )\n",
    "\n",
    "    yr = widgets.Dropdown(\n",
    "        options = year,\n",
    "        value= 2017,\n",
    "        description='Year:',\n",
    "    )\n",
    "\n",
    "\n",
    "    get_key_hour =sorted(hour, key=hour.__getitem__)\n",
    "    options = get_key_hour\n",
    "    duration = widgets.SelectionRangeSlider(\n",
    "        options=get_key_hour,\n",
    "        value=('1:00 am','12:00 am'),\n",
    "        description='Duration',\n",
    "        width = '100%',\n",
    "        disabled=False,\n",
    "        layout=Layout(width='50%', height='80px')\n",
    "    )\n",
    "\n",
    "\n",
    "    screen = widgets.IntSlider(\n",
    "        value=0,\n",
    "        min=0,\n",
    "        max=12,\n",
    "        step=1,\n",
    "        description='ScreenHours:', \n",
    "        disabled=False,\n",
    "        continuous_update=False,\n",
    "        orientation='horizontal',\n",
    "        readout=True,\n",
    "        readout_format='d',\n",
    "    )\n",
    "\n",
    "    glasses = widgets.Checkbox(\n",
    "        value=False,\n",
    "        description='Did you wear glasses?',\n",
    "        disabled=False\n",
    "    )\n",
    "\n",
    "    food = widgets.Checkbox(\n",
    "        value=False,\n",
    "        description='Did you eat?',\n",
    "        disabled=False\n",
    "    )\n",
    "\n",
    "    meds = widgets.Checkbox(\n",
    "        value=False,\n",
    "        description='Did you take medicine?',\n",
    "        disabled=False\n",
    "    )\n",
    "\n",
    "\n",
    "    car = widgets.Checkbox(\n",
    "        value=False,\n",
    "        description='Long car ride?',\n",
    "        disabled=False\n",
    "    )\n",
    "\n",
    "    display(\"Autumn's Headache Tracker\")\n",
    "    display(today_date)\n",
    "    display(mn, dy, yr, duration, pain, screen, glasses, food, car, meds)\n",
    "\n",
    "    def run_all(ev):\n",
    "        \"\"\"Run all of the cells below this cell\"\"\"\n",
    "        display(Javascript('IPython.notebook.execute_cell_range(IPython.notebook.get_selected_index()+1, IPython.notebook.ncells())'))\n",
    "\n",
    "    button = widgets.Button(description=\"Save\")\n",
    "    button.on_click(run_all)\n",
    "    display(button)"
   ]
  },
  {
   "cell_type": "code",
   "execution_count": 56,
   "metadata": {},
   "outputs": [],
   "source": [
    "    #format the output of the widgets\n",
    "    dur_a = duration.value[0]\n",
    "    dur_b = duration.value[1]\n",
    "    dur_b = dateutil.parser.parse(dur_b)\n",
    "    dur_a = dateutil.parser.parse(dur_a)\n",
    "    dur_hours = dur_b-dur_a\n",
    "    dur_hours = dur_hours/timedelta(hours=1)\n",
    "    headache_date = datetime.date(month = months.get(mn.value), day = dy.value, year = yr.value)\n",
    "    record_date = str(yr.value)+(\"-\")+(mn.value)+(\"-\")+str(dy.value)\n",
    "\n",
    "    if pain.value == \"none\":\n",
    "        pain_scalar = 0\n",
    "    elif pain.value == \"a little\":\n",
    "        pain_scalar = 1\n",
    "    elif pain.value == \"medium\":\n",
    "        pain_scalar = 2    \n",
    "    elif pain.value == \"a lot\":\n",
    "        pain_scalar = 3\n",
    "\n",
    "    def boolean_to_num(value):\n",
    "        \"\"\"Takes a boolean result and returns a zero or a one\"\"\"\n",
    "        if value == True:\n",
    "            value_num = 1\n",
    "        else: value_num = 0\n",
    "        return value_num\n",
    "    #print(boolean_to_num(glasses.value))\n",
    "        \n",
    "    record_date = dateutil.parser.parse(record_date)\n",
    "    today = {\"month\":mn.value, \"day\":dy.value, \"year\":yr.value, \"start_time\":dur_a, \"stop_time\":dur_b,\n",
    "             \"how_long\":dur_hours,\"pain\":pain.value, \"screen\":screen.value, \"glasses\":glasses.value, \n",
    "             \"food\":food.value,\"car\":car.value, \"meds\":meds.value}\n",
    "    recent_headache = headache(headache_date, pain.value, dur_hours, **today)  \n"
   ]
  },
  {
   "cell_type": "code",
   "execution_count": 57,
   "metadata": {},
   "outputs": [],
   "source": [
    "    #Put the widget data into a csv file.\n",
    "    df = pd.DataFrame(recent_headache.health_data, columns = [\"month\",\"day\",\"year\",\"start_time\", \"stop_time\",\n",
    "                                                              \"how_long\",\"pain\", \"screen\", \"glasses\", \"food\",\n",
    "                                                              \"car\", \"meds\"], index = (range(1,2)))\n",
    "    df = df[0:0]\n",
    "    if x <= 0:\n",
    "        with open('Headache_log.csv', 'a') as f:\n",
    "            df.to_csv(f, mode='w', header=True, index = False)\n",
    "    else:\n",
    "        with open('Headache_log.csv', 'a') as f:\n",
    "            df.to_csv(f, mode='w', header=False, index = False)\n",
    "    x = x + 1\n",
    "\n",
    "    df.loc[-1] = recent_headache.health_data  # adding a row\n",
    "    df.index = df.index + 1  # shifting index\n",
    "    df = df.sort_index()  # sorting by index\n",
    "  "
   ]
  },
  {
   "cell_type": "code",
   "execution_count": 58,
   "metadata": {},
   "outputs": [
    {
     "data": {
      "text/html": [
       "<div>\n",
       "<table border=\"1\" class=\"dataframe\">\n",
       "  <thead>\n",
       "    <tr style=\"text-align: right;\">\n",
       "      <th></th>\n",
       "      <th>month</th>\n",
       "      <th>day</th>\n",
       "      <th>year</th>\n",
       "      <th>start_time</th>\n",
       "      <th>stop_time</th>\n",
       "      <th>how_long</th>\n",
       "      <th>pain</th>\n",
       "      <th>screen</th>\n",
       "      <th>glasses</th>\n",
       "      <th>food</th>\n",
       "      <th>car</th>\n",
       "      <th>meds</th>\n",
       "    </tr>\n",
       "  </thead>\n",
       "  <tbody>\n",
       "    <tr>\n",
       "      <th>0</th>\n",
       "      <td>Jan</td>\n",
       "      <td>1</td>\n",
       "      <td>2017</td>\n",
       "      <td>2017-12-21 01:00:00</td>\n",
       "      <td>2017-12-21</td>\n",
       "      <td>-1.0</td>\n",
       "      <td>none</td>\n",
       "      <td>0</td>\n",
       "      <td>False</td>\n",
       "      <td>False</td>\n",
       "      <td>False</td>\n",
       "      <td>False</td>\n",
       "    </tr>\n",
       "  </tbody>\n",
       "</table>\n",
       "</div>"
      ],
      "text/plain": [
       "  month  day  year          start_time  stop_time  how_long  pain  screen  \\\n",
       "0   Jan    1  2017 2017-12-21 01:00:00 2017-12-21      -1.0  none       0   \n",
       "\n",
       "  glasses   food    car   meds  \n",
       "0   False  False  False  False  "
      ]
     },
     "execution_count": 58,
     "metadata": {},
     "output_type": "execute_result"
    }
   ],
   "source": [
    "    #view of the csv input for checking and debugging purposes\n",
    "    df"
   ]
  },
  {
   "cell_type": "code",
   "execution_count": 59,
   "metadata": {},
   "outputs": [],
   "source": [
    "    #with open('Headache_log.csv', 'a') as f:\n",
    "        #df.to_csv(f, mode='a', header=False, index=False)"
   ]
  },
  {
   "cell_type": "code",
   "execution_count": 60,
   "metadata": {},
   "outputs": [],
   "source": [
    "    #dfc =pd.read_table(\"Headache_log.csv\")\n",
    "    #print(dfc)"
   ]
  },
  {
   "cell_type": "code",
   "execution_count": 61,
   "metadata": {},
   "outputs": [],
   "source": [
    "    # use creds to create a client to interact with the Google Drive API\n",
    "    scope = ['https://spreadsheets.google.com/feeds','https://www.googleapis.com/auth/drive']\n",
    "    creds = ServiceAccountCredentials.from_json_keyfile_name('client_secret.json', scope)\n",
    "    client = gspread.authorize(creds)\n",
    " \n",
    "    # Find the workbook and open the first sheet\n",
    "    sheet = client.open(\"Headache_log\").sheet1\n",
    "\n",
    "    row = [record_date, mn.value, dy.value, yr.value, dur_a, dur_b, dur_hours, pain.value,pain_scalar, \n",
    "       screen.value, glasses.value, food.value, car.value, meds.value]\n",
    "    index = 1\n",
    "    sheet.insert_row(row, index) \n",
    "\n",
    "    #Extract and print all of the values\n",
    "    #headache_data = sheet.get_all_records()\n",
    "    #print(headache_data)"
   ]
  },
  {
   "cell_type": "code",
   "execution_count": 62,
   "metadata": {},
   "outputs": [],
   "source": [
    "    #Google sheets returns series in random order and header rows are not preserved with appending, \n",
    "    #so series are retrieved seperately, named and concantenated.\n",
    "\n",
    "    #dataframe = pd.DataFrame(sheet.get_all_records())\n",
    "    df_glasses = pd.DataFrame(sheet.col_values(11))\n",
    "    df_glasses.columns = [\"glasses\"]\n",
    "    df_pain_s = pd.DataFrame(sheet.col_values(8)).dropna()\n",
    "    df_pain_s.columns = [\"pain_scalar\"]\n",
    "    df_eat = pd.DataFrame(sheet.col_values(12))\n",
    "    df_eat.columns = [\"food\"]\n",
    "    df_car = pd.DataFrame(sheet.col_values(13))\n",
    "    df_car.columns = [\"car\"]\n",
    "    df_meds = pd.DataFrame(sheet.col_values(14))\n",
    "    df_meds.columns = [\"meds\"]\n",
    "    df_screen = pd.DataFrame(sheet.col_values(10))\n",
    "    df_screen.columns = [\"screen\"]\n",
    "    df_record_date = pd.DataFrame(sheet.col_values(1)).dropna()\n",
    "    df_record_date.columns = [\"record_date\"]\n",
    "\n",
    "    #new dataframes for charts\n",
    "    df_date_pain = pd.concat([df_record_date, df_pain_s], axis = 1).dropna()\n",
    "    df_date_pain.columns = [\"rdate\", \"painn\"]\n",
    "    df_factors = pd.concat([df_pain_s,df_glasses, df_eat, df_car, df_meds], axis = 1).dropna()\n",
    "    df_factors.columns = [\"pain\",\"wore_glasses\",\"foods\",\"car_ride\",\"tylenol\"]\n",
    "\n",
    "    #these are the names andnumbers of the columns: record_date1, mn.value2, dy.value3, yr.value4, \n",
    "    #dur_a5, dur_b6, dur_hours7, pain.value8,pain_scalar9, screen.value10, glasses.value11, food.value12,\n",
    "    #car.value13, meds.value14, gnum15, fnum16, cnum17, mnum18]\n",
    "    #dataframe.columns = [\"how_long\",\"screen\",\"day\",\"start_time\", \"stop_time\",\"year\",\"record_date\",\"meds\", \n",
    "    #\"month\", \"pain\", \"pain_scalar\",\"glasses\", \"car\",\"eat\"]"
   ]
  },
  {
   "cell_type": "code",
   "execution_count": 63,
   "metadata": {},
   "outputs": [],
   "source": [
    "#pandas grouping for charts\n",
    "group = df_factors.groupby([\"pain\",\"wore_glasses\"])\n",
    "group_sorted = group.size().unstack()\n",
    "\n",
    "groupr = df_factors.groupby([\"pain\",\"car_ride\"])\n",
    "groupr_sorted = groupr.size().unstack()\n",
    "groupf = df_factors.groupby([\"pain\",\"foods\"])\n",
    "groupf_sorted = groupf.size().unstack()\n",
    "groupm = df_factors.groupby([\"pain\",\"tylenol\"])\n",
    "groupm_sorted = groupm.size().unstack()"
   ]
  },
  {
   "cell_type": "code",
   "execution_count": 64,
   "metadata": {},
   "outputs": [
    {
     "data": {
      "image/png": "[encoded data removed]",
      "text/plain": [
       "<matplotlib.figure.Figure at 0x7f4db1b748d0>"
      ]
     },
     "metadata": {},
     "output_type": "display_data"
    }
   ],
   "source": [
    "     # charts\n",
    "ax = group_sorted[['FALSE','TRUE']].plot(kind='bar', title =\"Was I wearing glasses\", figsize=(15, 10), legend=True, fontsize=20)\n",
    "ax.set_xlabel(\"How much did it hurt?\", fontsize=20)\n",
    "ax.set_ylabel(\"Number of Headaches\", fontsize=20)\n",
    "plt.show()"
   ]
  },
  {
   "cell_type": "code",
   "execution_count": 65,
   "metadata": {},
   "outputs": [
    {
     "data": {
      "image/png": "[encoded data removed]",
      "text/plain": [
       "<matplotlib.figure.Figure at 0x7f4dab340dd8>"
      ]
     },
     "metadata": {},
     "output_type": "display_data"
    }
   ],
   "source": [
    "bx = groupr_sorted[['FALSE','TRUE']].plot(kind='bar', title =\"Was I carsick?\", figsize=(15, 10), legend=True, fontsize=20)\n",
    "bx.set_xlabel(\"How much did it hurt?\", fontsize=20)\n",
    "bx.set_ylabel(\"Number of Headaches\", fontsize=20)\n",
    "plt.show()"
   ]
  },
  {
   "cell_type": "code",
   "execution_count": 66,
   "metadata": {},
   "outputs": [
    {
     "data": {
      "image/png": "[encoded data removed]",
      "text/plain": [
       "<matplotlib.figure.Figure at 0x7f4db19fca58>"
      ]
     },
     "metadata": {},
     "output_type": "display_data"
    }
   ],
   "source": [
    "cx = groupf_sorted[['FALSE','TRUE']].plot(kind='bar', title =\"Did I remember to eat?\", figsize=(15, 10), legend=True, fontsize=20)\n",
    "cx.set_xlabel(\"How much did it hurt?\", fontsize=20)\n",
    "cx.set_ylabel(\"Number of Headaches\", fontsize=20)\n",
    "plt.show()"
   ]
  },
  {
   "cell_type": "code",
   "execution_count": 67,
   "metadata": {},
   "outputs": [
    {
     "data": {
      "image/png": "[encoded data removed]",
      "text/plain": [
       "<matplotlib.figure.Figure at 0x7f4db1b00160>"
      ]
     },
     "metadata": {},
     "output_type": "display_data"
    }
   ],
   "source": [
    "mx = groupm_sorted[['FALSE','TRUE']].plot(kind='bar', title =\"Did I take pain meds?\", figsize=(15, 10), legend=True, fontsize=20)\n",
    "mx.set_xlabel(\"How much did it hurt?\", fontsize=20)\n",
    "mx.set_ylabel(\"Number of Headaches\", fontsize=20)\n",
    "plt.show()"
   ]
  },
  {
   "cell_type": "code",
   "execution_count": 68,
   "metadata": {},
   "outputs": [],
   "source": [
    "    #clear out the csv data frame \n",
    "    df = df[0:0]"
   ]
  },
  {
   "cell_type": "code",
   "execution_count": null,
   "metadata": {},
   "outputs": [],
   "source": []
  }
 ],
 "metadata": {
  "kernelspec": {
   "display_name": "Python 3",
   "language": "python",
   "name": "python3"
  },
  "language_info": {
   "codemirror_mode": {
    "name": "ipython",
    "version": 3
   },
   "file_extension": ".py",
   "mimetype": "text/x-python",
   "name": "python",
   "nbconvert_exporter": "python",
   "pygments_lexer": "ipython3",
   "version": "3.5.2"
  }
 },
 "nbformat": 4,
 "nbformat_minor": 2
}
